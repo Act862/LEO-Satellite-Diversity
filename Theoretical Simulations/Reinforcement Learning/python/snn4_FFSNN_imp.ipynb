{
 "cells": [
  {
   "cell_type": "code",
   "execution_count": 4,
   "id": "796f2b6e",
   "metadata": {},
   "outputs": [],
   "source": [
    "import snntorch as snn\n",
    "from snntorch import spikeplot as splt\n",
    "from snntorch import spikegen\n",
    "\n",
    "import torch\n",
    "import torch.nn as nn\n",
    "import matplotlib.pyplot as plt"
   ]
  },
  {
   "cell_type": "code",
   "execution_count": 3,
   "id": "f4682b6c",
   "metadata": {},
   "outputs": [],
   "source": [
    "num_inputs = 784\n",
    "num_hidden = 1000\n",
    "num_outputs = 10\n",
    "beta = 0.99\n",
    "\n",
    "fc1 = nn.Linear(num_inputs,num_hidden)\n",
    "lif1 = snn.Leaky(beta=beta)\n",
    "fc2 = nn.Linear(num_hidden,num_outputs)\n",
    "lif2 = snn.Leaky(beta=beta)\n",
    "\n",
    "mem1 = lif1.init_leaky()\n",
    "mem2 = lif2.init_leaky()\n",
    "\n",
    "mem2_rec = []\n",
    "spk1_rec = []\n",
    "spk2_rec = []\n",
    "\n",
    "spk_in = spikegen.rate_conv(torch.rand((200, 784))).unsqueeze(1)"
   ]
  },
  {
   "cell_type": "code",
   "execution_count": null,
   "id": "6ab1bb8b",
   "metadata": {},
   "outputs": [],
   "source": [
    "num_steps = 200\n",
    "for step in range(num_steps):\n",
    "    cur1 = fc1(spk_in[step])\n",
    "    spk1, mem1 = lif1(cur1,mem1)\n",
    "    cur2 = fc2(spk1)\n",
    "    spk2,mem2 = lif2(cur2,mem2)\n",
    "\n",
    "    mem2_rec.append(mem2)\n",
    "    spk1_rec.append(spk1)\n",
    "    spk2_rec.append(spk2)\n",
    "\n",
    "mem2_rec = torch.stack(mem2_rec)\n",
    "spk1_rec = torch.stack(spk1_rec)\n",
    "spk2_rec = torch.stack(spk2_rec)\n",
    "\n",
    "def plot_snn_spikes(spk_in, spk1_rec, spk2_rec, title):\n",
    "  # Generate Plots\n",
    "  fig, ax = plt.subplots(3, figsize=(8,7), sharex=True, \n",
    "                        gridspec_kw = {'height_ratios': [1, 1, 0.4]})\n",
    "\n",
    "  # Plot input spikes\n",
    "  splt.raster(spk_in[:,0], ax[0], s=0.03, c=\"black\")\n",
    "  ax[0].set_ylabel(\"Input Spikes\")\n",
    "  ax[0].set_title(title)\n",
    "\n",
    "  # Plot hidden layer spikes\n",
    "  splt.raster(spk1_rec.reshape(num_steps, -1), ax[1], s = 0.05, c=\"black\")\n",
    "  ax[1].set_ylabel(\"Hidden Layer\")\n",
    "\n",
    "  # Plot output spikes\n",
    "  splt.raster(spk2_rec.reshape(num_steps, -1), ax[2], c=\"black\", marker=\"|\")\n",
    "  ax[2].set_ylabel(\"Output Spikes\")\n",
    "  ax[2].set_ylim([0, 10])\n",
    "\n",
    "  plt.show()\n",
    "\n",
    "plot_snn_spikes(spk_in, spk1_rec, spk2_rec, \"Fully Connected Spiking Neural Network\")\n"
   ]
  }
 ],
 "metadata": {
  "kernelspec": {
   "display_name": "Python 3",
   "language": "python",
   "name": "python3"
  },
  "language_info": {
   "codemirror_mode": {
    "name": "ipython",
    "version": 3
   },
   "file_extension": ".py",
   "mimetype": "text/x-python",
   "name": "python",
   "nbconvert_exporter": "python",
   "pygments_lexer": "ipython3",
   "version": "3.13.7"
  }
 },
 "nbformat": 4,
 "nbformat_minor": 5
}
